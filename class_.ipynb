{
  "nbformat": 4,
  "nbformat_minor": 0,
  "metadata": {
    "colab": {
      "name": "class .ipynb",
      "provenance": [],
      "collapsed_sections": []
    },
    "kernelspec": {
      "name": "python3",
      "display_name": "Python 3"
    },
    "language_info": {
      "name": "python"
    }
  },
  "cells": [
    {
      "cell_type": "code",
      "metadata": {
        "id": "JcWiGgpK7wgs",
        "colab": {
          "base_uri": "https://localhost:8080/"
        },
        "outputId": "120fef03-4b96-4946-83e1-cc582a731fe3"
      },
      "source": [
        "class point3D:\n",
        "   def __init__(self, x, y, z):\n",
        "    self.x=x\n",
        "    self.y=y\n",
        "    self.z=z\n",
        "   def set_3d (self):\n",
        "    return  \"({},{},{})\".format(self.x,self.y,self.z)\n",
        "my_point = point3D(1,2,3)\n",
        "print(my_point.set_3d())"
      ],
      "execution_count": null,
      "outputs": [
        {
          "output_type": "stream",
          "text": [
            "(1,2,3)\n"
          ],
          "name": "stdout"
        }
      ]
    },
    {
      "cell_type": "code",
      "metadata": {
        "colab": {
          "base_uri": "https://localhost:8080/",
          "height": 35
        },
        "id": "bBBzRafnTdiJ",
        "outputId": "20eb08b1-153f-4368-a314-a4e7ffd95f36"
      },
      "source": [
        "class rectangle:\n",
        "    def __init__(self,lenghth,width):\n",
        "      self.lenghth=lenghth\n",
        "      self.width=width\n",
        "    def area(self):\n",
        "      return \"l'aire est de{}\".format(self.lenghth*self.width)\n",
        "    def perimeter(self):\n",
        "      return \"le perimeter est de{}\".format((self.lenghth+self.width)*2)\n",
        "my_rectangle=rectangle(3,4)\n",
        "my_rectangle.area()\n",
        "my_rectangle.perimeter()\n"
      ],
      "execution_count": null,
      "outputs": [
        {
          "output_type": "execute_result",
          "data": {
            "application/vnd.google.colaboratory.intrinsic+json": {
              "type": "string"
            },
            "text/plain": [
              "'le perimeter est de14'"
            ]
          },
          "metadata": {
            "tags": []
          },
          "execution_count": 18
        }
      ]
    },
    {
      "cell_type": "code",
      "metadata": {
        "colab": {
          "base_uri": "https://localhost:8080/"
        },
        "id": "bCKGEZq2Xi-6",
        "outputId": "e3758b33-f015-45f9-bb34-1dcecf4e9578"
      },
      "source": [
        "class Circle(): \n",
        "  def __init__ (self,a,b,r):\n",
        "    self.a=a\n",
        "    self.b=b\n",
        "    self.r=r\n",
        "  def area(self):\n",
        "      return self.r**2*3.14\n",
        "  def perimeter(self):\n",
        "      return  2*self.r*3.14\n",
        "  def appartenance (self,x,y):\n",
        "      return (x-self.a)**2+(y-self.b)**2==self.r**2\n",
        "c=Circle(0,0,1)\n",
        "print(\"l'aire est:\",c.area())\n",
        "print(\"le perimetre est\",c.perimeter())\n",
        "print(\"test appartenance b(1,2)\",c.appartenance(1,2))"
      ],
      "execution_count": null,
      "outputs": [
        {
          "output_type": "stream",
          "text": [
            "l'aire est: 3.14\n",
            "le perimetre est 6.28\n",
            "test appartenance b(1,2) False\n"
          ],
          "name": "stdout"
        }
      ]
    },
    {
      "cell_type": "code",
      "metadata": {
        "colab": {
          "base_uri": "https://localhost:8080/"
        },
        "id": "xbXwcTHFqJ7G",
        "outputId": "629f8141-9b98-47b0-d70a-c720ec092d95"
      },
      "source": [
        "class Bank_Account:\n",
        "  def __init__(self):\n",
        "        self.balance=0\n",
        "        print(\"Hello!!! Welcome to the Deposit & Withdrawal Machine\")\n",
        "  def deposit(self):\n",
        "        amount=float(input(\"Enter amount to be Deposited: \"))\n",
        "        self.balance += amount\n",
        "        print(\"\\n Amount Deposited:\",amount)\n",
        "  def withdraw(self):\n",
        "        amount = float(input(\"Enter amount to be Withdrawn: \"))\n",
        "        if self.balance>=amount:\n",
        "            self.balance-=amount\n",
        "            print(\"\\n You Withdrew:\", amount)\n",
        "        else:\n",
        "            print(\"\\n Insufficient balance  \")\n",
        "  def display(self):\n",
        "        print(\"\\n Net Available Balance=\",self.balance)\n",
        "s = Bank_Account()\n",
        "s.deposit()\n",
        "s.withdraw()\n",
        "s.display()"
      ],
      "execution_count": null,
      "outputs": [
        {
          "output_type": "stream",
          "text": [
            "Hello!!! Welcome to the Deposit & Withdrawal Machine\n",
            "Enter amount to be Deposited: 50000\n",
            "\n",
            " Amount Deposited: 50000.0\n",
            "Enter amount to be Withdrawn: 500\n",
            "\n",
            " You Withdrew: 500.0\n",
            "\n",
            " Net Available Balance= 49500.0\n"
          ],
          "name": "stdout"
        }
      ]
    },
    {
      "cell_type": "code",
      "metadata": {
        "id": "Vm9L51WvrJha"
      },
      "source": [
        ""
      ],
      "execution_count": null,
      "outputs": []
    },
    {
      "cell_type": "code",
      "metadata": {
        "id": "Q7sq56xondUI"
      },
      "source": [
        ""
      ],
      "execution_count": null,
      "outputs": []
    }
  ]
}